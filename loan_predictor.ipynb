{
 "cells": [
  {
   "cell_type": "code",
   "execution_count": 1,
   "id": "e6252dcf",
   "metadata": {},
   "outputs": [],
   "source": [
    "import pandas as pd\n",
    "import numpy as np\n",
    "import matplotlib.pyplot as plt \n",
    "import seaborn as sns "
   ]
  },
  {
   "cell_type": "code",
   "execution_count": 60,
   "id": "ac70c27f",
   "metadata": {},
   "outputs": [
    {
     "name": "stdout",
     "output_type": "stream",
     "text": [
      "Requirement already satisfied: statsmodels in e:\\anaconda\\lib\\site-packages (0.13.2)\n",
      "Requirement already satisfied: numpy>=1.17 in e:\\anaconda\\lib\\site-packages (from statsmodels) (1.22.4)\n",
      "Requirement already satisfied: scipy>=1.3 in e:\\anaconda\\lib\\site-packages (from statsmodels) (1.7.3)\n",
      "Requirement already satisfied: pandas>=0.25 in e:\\anaconda\\lib\\site-packages (from statsmodels) (1.4.2)\n",
      "Requirement already satisfied: patsy>=0.5.2 in e:\\anaconda\\lib\\site-packages (from statsmodels) (0.5.2)\n",
      "Requirement already satisfied: packaging>=21.3 in e:\\anaconda\\lib\\site-packages (from statsmodels) (21.3)\n",
      "Requirement already satisfied: pyparsing!=3.0.5,>=2.0.2 in e:\\anaconda\\lib\\site-packages (from packaging>=21.3->statsmodels) (3.0.4)\n",
      "Requirement already satisfied: python-dateutil>=2.8.1 in e:\\anaconda\\lib\\site-packages (from pandas>=0.25->statsmodels) (2.8.2)\n",
      "Requirement already satisfied: pytz>=2020.1 in e:\\anaconda\\lib\\site-packages (from pandas>=0.25->statsmodels) (2021.3)\n",
      "Requirement already satisfied: six in e:\\anaconda\\lib\\site-packages (from patsy>=0.5.2->statsmodels) (1.16.0)\n"
     ]
    }
   ],
   "source": [
    "! pip install statsmodels"
   ]
  },
  {
   "cell_type": "markdown",
   "id": "2e4b7709",
   "metadata": {},
   "source": [
    "# importing data "
   ]
  },
  {
   "cell_type": "code",
   "execution_count": 2,
   "id": "9953a279",
   "metadata": {},
   "outputs": [
    {
     "data": {
      "text/html": [
       "<div>\n",
       "<style scoped>\n",
       "    .dataframe tbody tr th:only-of-type {\n",
       "        vertical-align: middle;\n",
       "    }\n",
       "\n",
       "    .dataframe tbody tr th {\n",
       "        vertical-align: top;\n",
       "    }\n",
       "\n",
       "    .dataframe thead th {\n",
       "        text-align: right;\n",
       "    }\n",
       "</style>\n",
       "<table border=\"1\" class=\"dataframe\">\n",
       "  <thead>\n",
       "    <tr style=\"text-align: right;\">\n",
       "      <th></th>\n",
       "      <th>Loan_ID</th>\n",
       "      <th>Gender</th>\n",
       "      <th>Married</th>\n",
       "      <th>Dependents</th>\n",
       "      <th>Education</th>\n",
       "      <th>Self_Employed</th>\n",
       "      <th>ApplicantIncome</th>\n",
       "      <th>CoapplicantIncome</th>\n",
       "      <th>LoanAmount</th>\n",
       "      <th>Loan_Amount_Term</th>\n",
       "      <th>Credit_History</th>\n",
       "      <th>Property_Area</th>\n",
       "      <th>Loan_Status</th>\n",
       "    </tr>\n",
       "  </thead>\n",
       "  <tbody>\n",
       "    <tr>\n",
       "      <th>0</th>\n",
       "      <td>LP002305</td>\n",
       "      <td>Female</td>\n",
       "      <td>No</td>\n",
       "      <td>0</td>\n",
       "      <td>Graduate</td>\n",
       "      <td>No</td>\n",
       "      <td>4547</td>\n",
       "      <td>0.0</td>\n",
       "      <td>115.0</td>\n",
       "      <td>360.0</td>\n",
       "      <td>1.0</td>\n",
       "      <td>Semiurban</td>\n",
       "      <td>1</td>\n",
       "    </tr>\n",
       "    <tr>\n",
       "      <th>1</th>\n",
       "      <td>LP001715</td>\n",
       "      <td>Male</td>\n",
       "      <td>Yes</td>\n",
       "      <td>3+</td>\n",
       "      <td>Not Graduate</td>\n",
       "      <td>Yes</td>\n",
       "      <td>5703</td>\n",
       "      <td>0.0</td>\n",
       "      <td>130.0</td>\n",
       "      <td>360.0</td>\n",
       "      <td>1.0</td>\n",
       "      <td>Rural</td>\n",
       "      <td>1</td>\n",
       "    </tr>\n",
       "    <tr>\n",
       "      <th>2</th>\n",
       "      <td>LP002086</td>\n",
       "      <td>Female</td>\n",
       "      <td>Yes</td>\n",
       "      <td>0</td>\n",
       "      <td>Graduate</td>\n",
       "      <td>No</td>\n",
       "      <td>4333</td>\n",
       "      <td>2451.0</td>\n",
       "      <td>110.0</td>\n",
       "      <td>360.0</td>\n",
       "      <td>1.0</td>\n",
       "      <td>Urban</td>\n",
       "      <td>0</td>\n",
       "    </tr>\n",
       "    <tr>\n",
       "      <th>3</th>\n",
       "      <td>LP001136</td>\n",
       "      <td>Male</td>\n",
       "      <td>Yes</td>\n",
       "      <td>0</td>\n",
       "      <td>Not Graduate</td>\n",
       "      <td>Yes</td>\n",
       "      <td>4695</td>\n",
       "      <td>0.0</td>\n",
       "      <td>96.0</td>\n",
       "      <td>NaN</td>\n",
       "      <td>1.0</td>\n",
       "      <td>Urban</td>\n",
       "      <td>1</td>\n",
       "    </tr>\n",
       "    <tr>\n",
       "      <th>4</th>\n",
       "      <td>LP002529</td>\n",
       "      <td>Male</td>\n",
       "      <td>Yes</td>\n",
       "      <td>2</td>\n",
       "      <td>Graduate</td>\n",
       "      <td>No</td>\n",
       "      <td>6700</td>\n",
       "      <td>1750.0</td>\n",
       "      <td>230.0</td>\n",
       "      <td>300.0</td>\n",
       "      <td>1.0</td>\n",
       "      <td>Semiurban</td>\n",
       "      <td>1</td>\n",
       "    </tr>\n",
       "  </tbody>\n",
       "</table>\n",
       "</div>"
      ],
      "text/plain": [
       "    Loan_ID  Gender Married Dependents     Education Self_Employed  \\\n",
       "0  LP002305  Female      No          0      Graduate            No   \n",
       "1  LP001715    Male     Yes         3+  Not Graduate           Yes   \n",
       "2  LP002086  Female     Yes          0      Graduate            No   \n",
       "3  LP001136    Male     Yes          0  Not Graduate           Yes   \n",
       "4  LP002529    Male     Yes          2      Graduate            No   \n",
       "\n",
       "   ApplicantIncome  CoapplicantIncome  LoanAmount  Loan_Amount_Term  \\\n",
       "0             4547                0.0       115.0             360.0   \n",
       "1             5703                0.0       130.0             360.0   \n",
       "2             4333             2451.0       110.0             360.0   \n",
       "3             4695                0.0        96.0               NaN   \n",
       "4             6700             1750.0       230.0             300.0   \n",
       "\n",
       "   Credit_History Property_Area  Loan_Status  \n",
       "0             1.0     Semiurban            1  \n",
       "1             1.0         Rural            1  \n",
       "2             1.0         Urban            0  \n",
       "3             1.0         Urban            1  \n",
       "4             1.0     Semiurban            1  "
      ]
     },
     "execution_count": 2,
     "metadata": {},
     "output_type": "execute_result"
    }
   ],
   "source": [
    "loan_data=pd.read_csv(\"https://raw.githubusercontent.com/dphi-official/Datasets/master/Loan_Data/loan_train.csv\")\n",
    "loan_data=loan_data.drop(['Unnamed: 0'],axis=1)\n",
    "loan_data.head()"
   ]
  },
  {
   "cell_type": "code",
   "execution_count": 3,
   "id": "4daec0b0",
   "metadata": {},
   "outputs": [
    {
     "data": {
      "text/html": [
       "<div>\n",
       "<style scoped>\n",
       "    .dataframe tbody tr th:only-of-type {\n",
       "        vertical-align: middle;\n",
       "    }\n",
       "\n",
       "    .dataframe tbody tr th {\n",
       "        vertical-align: top;\n",
       "    }\n",
       "\n",
       "    .dataframe thead th {\n",
       "        text-align: right;\n",
       "    }\n",
       "</style>\n",
       "<table border=\"1\" class=\"dataframe\">\n",
       "  <thead>\n",
       "    <tr style=\"text-align: right;\">\n",
       "      <th></th>\n",
       "      <th>Loan_ID</th>\n",
       "      <th>Gender</th>\n",
       "      <th>Married</th>\n",
       "      <th>Dependents</th>\n",
       "      <th>Education</th>\n",
       "      <th>Self_Employed</th>\n",
       "      <th>ApplicantIncome</th>\n",
       "      <th>CoapplicantIncome</th>\n",
       "      <th>LoanAmount</th>\n",
       "      <th>Loan_Amount_Term</th>\n",
       "      <th>Credit_History</th>\n",
       "      <th>Property_Area</th>\n",
       "    </tr>\n",
       "  </thead>\n",
       "  <tbody>\n",
       "    <tr>\n",
       "      <th>0</th>\n",
       "      <td>LP001116</td>\n",
       "      <td>Male</td>\n",
       "      <td>No</td>\n",
       "      <td>0</td>\n",
       "      <td>Not Graduate</td>\n",
       "      <td>No</td>\n",
       "      <td>3748</td>\n",
       "      <td>1668.0</td>\n",
       "      <td>110.0</td>\n",
       "      <td>360.0</td>\n",
       "      <td>1.0</td>\n",
       "      <td>Semiurban</td>\n",
       "    </tr>\n",
       "    <tr>\n",
       "      <th>1</th>\n",
       "      <td>LP001488</td>\n",
       "      <td>Male</td>\n",
       "      <td>Yes</td>\n",
       "      <td>3+</td>\n",
       "      <td>Graduate</td>\n",
       "      <td>No</td>\n",
       "      <td>4000</td>\n",
       "      <td>7750.0</td>\n",
       "      <td>290.0</td>\n",
       "      <td>360.0</td>\n",
       "      <td>1.0</td>\n",
       "      <td>Semiurban</td>\n",
       "    </tr>\n",
       "    <tr>\n",
       "      <th>2</th>\n",
       "      <td>LP002138</td>\n",
       "      <td>Male</td>\n",
       "      <td>Yes</td>\n",
       "      <td>0</td>\n",
       "      <td>Graduate</td>\n",
       "      <td>No</td>\n",
       "      <td>2625</td>\n",
       "      <td>6250.0</td>\n",
       "      <td>187.0</td>\n",
       "      <td>360.0</td>\n",
       "      <td>1.0</td>\n",
       "      <td>Rural</td>\n",
       "    </tr>\n",
       "    <tr>\n",
       "      <th>3</th>\n",
       "      <td>LP002284</td>\n",
       "      <td>Male</td>\n",
       "      <td>No</td>\n",
       "      <td>0</td>\n",
       "      <td>Not Graduate</td>\n",
       "      <td>No</td>\n",
       "      <td>3902</td>\n",
       "      <td>1666.0</td>\n",
       "      <td>109.0</td>\n",
       "      <td>360.0</td>\n",
       "      <td>1.0</td>\n",
       "      <td>Rural</td>\n",
       "    </tr>\n",
       "    <tr>\n",
       "      <th>4</th>\n",
       "      <td>LP002328</td>\n",
       "      <td>Male</td>\n",
       "      <td>Yes</td>\n",
       "      <td>0</td>\n",
       "      <td>Not Graduate</td>\n",
       "      <td>No</td>\n",
       "      <td>6096</td>\n",
       "      <td>0.0</td>\n",
       "      <td>218.0</td>\n",
       "      <td>360.0</td>\n",
       "      <td>0.0</td>\n",
       "      <td>Rural</td>\n",
       "    </tr>\n",
       "  </tbody>\n",
       "</table>\n",
       "</div>"
      ],
      "text/plain": [
       "    Loan_ID Gender Married Dependents     Education Self_Employed  \\\n",
       "0  LP001116   Male      No          0  Not Graduate            No   \n",
       "1  LP001488   Male     Yes         3+      Graduate            No   \n",
       "2  LP002138   Male     Yes          0      Graduate            No   \n",
       "3  LP002284   Male      No          0  Not Graduate            No   \n",
       "4  LP002328   Male     Yes          0  Not Graduate            No   \n",
       "\n",
       "   ApplicantIncome  CoapplicantIncome  LoanAmount  Loan_Amount_Term  \\\n",
       "0             3748             1668.0       110.0             360.0   \n",
       "1             4000             7750.0       290.0             360.0   \n",
       "2             2625             6250.0       187.0             360.0   \n",
       "3             3902             1666.0       109.0             360.0   \n",
       "4             6096                0.0       218.0             360.0   \n",
       "\n",
       "   Credit_History Property_Area  \n",
       "0             1.0     Semiurban  \n",
       "1             1.0     Semiurban  \n",
       "2             1.0         Rural  \n",
       "3             1.0         Rural  \n",
       "4             0.0         Rural  "
      ]
     },
     "execution_count": 3,
     "metadata": {},
     "output_type": "execute_result"
    }
   ],
   "source": [
    "test_data=pd.read_csv('https://raw.githubusercontent.com/dphi-official/Datasets/master/Loan_Data/loan_test.csv')\n",
    "test_data.head()"
   ]
  },
  {
   "cell_type": "code",
   "execution_count": 4,
   "id": "3e86cffa",
   "metadata": {},
   "outputs": [
    {
     "name": "stdout",
     "output_type": "stream",
     "text": [
      "(491, 13)\n",
      "(123, 12)\n"
     ]
    }
   ],
   "source": [
    "print(loan_data.shape)\n",
    "print(test_data.shape)\n"
   ]
  },
  {
   "cell_type": "code",
   "execution_count": 5,
   "id": "c4111d1b",
   "metadata": {},
   "outputs": [
    {
     "data": {
      "text/plain": [
       "1    343\n",
       "0    148\n",
       "Name: Loan_Status, dtype: int64"
      ]
     },
     "execution_count": 5,
     "metadata": {},
     "output_type": "execute_result"
    }
   ],
   "source": [
    "loan_data.Loan_Status.value_counts()"
   ]
  },
  {
   "cell_type": "code",
   "execution_count": 6,
   "id": "be04de73",
   "metadata": {},
   "outputs": [
    {
     "data": {
      "text/plain": [
       "1    0.698574\n",
       "0    0.301426\n",
       "Name: Loan_Status, dtype: float64"
      ]
     },
     "execution_count": 6,
     "metadata": {},
     "output_type": "execute_result"
    }
   ],
   "source": [
    "# seeing as a percentage\n",
    "loan_data.Loan_Status.value_counts(normalize=True)"
   ]
  },
  {
   "cell_type": "code",
   "execution_count": 7,
   "id": "429fb0d4",
   "metadata": {},
   "outputs": [
    {
     "data": {
      "text/plain": [
       "Index(['Loan_ID', 'Gender', 'Married', 'Dependents', 'Education',\n",
       "       'Self_Employed', 'ApplicantIncome', 'CoapplicantIncome', 'LoanAmount',\n",
       "       'Loan_Amount_Term', 'Credit_History', 'Property_Area', 'Loan_Status'],\n",
       "      dtype='object')"
      ]
     },
     "execution_count": 7,
     "metadata": {},
     "output_type": "execute_result"
    }
   ],
   "source": [
    "loan_data.columns"
   ]
  },
  {
   "cell_type": "markdown",
   "id": "e7068982",
   "metadata": {},
   "source": [
    "## Visualization "
   ]
  },
  {
   "cell_type": "markdown",
   "id": "93449f2c",
   "metadata": {},
   "source": [
    "## categorical variables nominal"
   ]
  },
  {
   "cell_type": "code",
   "execution_count": 8,
   "id": "38ef5a9a",
   "metadata": {},
   "outputs": [
    {
     "data": {
      "image/png": "[encoded data removed]",
      "text/plain": [
       "<Figure size 432x288 with 1 Axes>"
      ]
     },
     "metadata": {
      "needs_background": "light"
     },
     "output_type": "display_data"
    },
    {
     "data": {
      "image/png": "[encoded data removed]",
      "text/plain": [
       "<Figure size 432x288 with 1 Axes>"
      ]
     },
     "metadata": {
      "needs_background": "light"
     },
     "output_type": "display_data"
    },
    {
     "data": {
      "image/png": "[encoded data removed]",
      "text/plain": [
       "<Figure size 432x288 with 1 Axes>"
      ]
     },
     "metadata": {
      "needs_background": "light"
     },
     "output_type": "display_data"
    },
    {
     "data": {
      "image/png": "[encoded data removed]",
      "text/plain": [
       "<Figure size 432x288 with 1 Axes>"
      ]
     },
     "metadata": {
      "needs_background": "light"
     },
     "output_type": "display_data"
    }
   ],
   "source": [
    "loan_data.Gender.value_counts(normalize=True).plot(kind='bar',title='Gender')\n",
    "plt.show()\n",
    "loan_data.Married.value_counts(normalize=True).plot(kind='bar',title='Marital status')\n",
    "plt.show()\n",
    "loan_data.Self_Employed.value_counts(normalize=True).plot(kind='bar',title='self employee')\n",
    "plt.show()\n",
    "loan_data.Credit_History.value_counts(normalize=True).plot(kind='bar',title='credit history')\n",
    "plt.show()"
   ]
  },
  {
   "cell_type": "markdown",
   "id": "a166a46d",
   "metadata": {},
   "source": [
    "Around 80 %  male\\\n",
    "Around 65% married\\\n",
    "Around 85 % self employed\\ \n",
    "Around 85% has credit history\\"
   ]
  },
  {
   "cell_type": "markdown",
   "id": "f93c4347",
   "metadata": {},
   "source": [
    "## Ordrinal data"
   ]
  },
  {
   "cell_type": "code",
   "execution_count": 9,
   "id": "719b3b54",
   "metadata": {},
   "outputs": [
    {
     "data": {
      "image/png": "[encoded data removed]",
      "text/plain": [
       "<Figure size 432x288 with 1 Axes>"
      ]
     },
     "metadata": {
      "needs_background": "light"
     },
     "output_type": "display_data"
    },
    {
     "data": {
      "image/png": "[encoded data removed]",
      "text/plain": [
       "<Figure size 432x288 with 1 Axes>"
      ]
     },
     "metadata": {
      "needs_background": "light"
     },
     "output_type": "display_data"
    },
    {
     "data": {
      "image/png": "[encoded data removed]",
      "text/plain": [
       "<Figure size 432x288 with 1 Axes>"
      ]
     },
     "metadata": {
      "needs_background": "light"
     },
     "output_type": "display_data"
    }
   ],
   "source": [
    "loan_data.Dependents.value_counts(normalize=True).plot(kind='bar',title='Dependents')\n",
    "plt.show()\n",
    "loan_data.Education.value_counts(normalize=True).plot(kind='bar',title='Education')\n",
    "plt.show()\n",
    "loan_data.Property_Area.value_counts(normalize=True).plot(kind='bar',title='area')\n",
    "plt.show()"
   ]
  },
  {
   "cell_type": "markdown",
   "id": "3ad9a55c",
   "metadata": {},
   "source": [
    "## Numerical variables"
   ]
  },
  {
   "cell_type": "code",
   "execution_count": 10,
   "id": "9692b7d1",
   "metadata": {},
   "outputs": [
    {
     "name": "stderr",
     "output_type": "stream",
     "text": [
      "E:\\anaconda\\lib\\site-packages\\seaborn\\distributions.py:2619: FutureWarning: `distplot` is a deprecated function and will be removed in a future version. Please adapt your code to use either `displot` (a figure-level function with similar flexibility) or `histplot` (an axes-level function for histograms).\n",
      "  warnings.warn(msg, FutureWarning)\n"
     ]
    },
    {
     "data": {
      "image/png": "[encoded data removed]",
      "text/plain": [
       "<Figure size 432x288 with 1 Axes>"
      ]
     },
     "metadata": {
      "needs_background": "light"
     },
     "output_type": "display_data"
    },
    {
     "data": {
      "image/png": "[encoded data removed]",
      "text/plain": [
       "<Figure size 432x288 with 1 Axes>"
      ]
     },
     "metadata": {
      "needs_background": "light"
     },
     "output_type": "display_data"
    },
    {
     "data": {
      "image/png": "[encoded data removed]",
      "text/plain": [
       "<Figure size 432x288 with 1 Axes>"
      ]
     },
     "metadata": {
      "needs_background": "light"
     },
     "output_type": "display_data"
    }
   ],
   "source": [
    "#Applicantincome\n",
    "sns.distplot(loan_data['ApplicantIncome'])\n",
    "plt.show()\n",
    "sns.boxplot(y=loan_data['ApplicantIncome'])\n",
    "plt.show()\n",
    "sns.boxplot(y=loan_data['ApplicantIncome'],x=loan_data['Education'])\n",
    "plt.show()"
   ]
  },
  {
   "cell_type": "markdown",
   "id": "f8e5553c",
   "metadata": {},
   "source": [
    "We can see that there are a higher number of graduates with very high incomes, which are appearing to be outliers."
   ]
  },
  {
   "cell_type": "code",
   "execution_count": 11,
   "id": "e6a4235b",
   "metadata": {},
   "outputs": [
    {
     "name": "stderr",
     "output_type": "stream",
     "text": [
      "E:\\anaconda\\lib\\site-packages\\seaborn\\distributions.py:2619: FutureWarning: `distplot` is a deprecated function and will be removed in a future version. Please adapt your code to use either `displot` (a figure-level function with similar flexibility) or `histplot` (an axes-level function for histograms).\n",
      "  warnings.warn(msg, FutureWarning)\n"
     ]
    },
    {
     "data": {
      "image/png": "[encoded data removed]",
      "text/plain": [
       "<Figure size 432x288 with 1 Axes>"
      ]
     },
     "metadata": {
      "needs_background": "light"
     },
     "output_type": "display_data"
    },
    {
     "data": {
      "image/png": "[encoded data removed]",
      "text/plain": [
       "<Figure size 432x288 with 1 Axes>"
      ]
     },
     "metadata": {
      "needs_background": "light"
     },
     "output_type": "display_data"
    }
   ],
   "source": [
    "#Coapplicant income\n",
    "sns.distplot(loan_data['CoapplicantIncome'])\n",
    "plt.show()\n",
    "sns.boxplot(y=loan_data['CoapplicantIncome'])\n",
    "plt.show()"
   ]
  },
  {
   "cell_type": "markdown",
   "id": "96d189f0",
   "metadata": {},
   "source": [
    "We see a similar distribution as that of the applicant's income. The majority of co-applicants income ranges from 0 to 5000. We also see a lot of outliers in the Coapplicant's income and it is not normally distributed."
   ]
  },
  {
   "cell_type": "code",
   "execution_count": 12,
   "id": "8e898e51",
   "metadata": {},
   "outputs": [
    {
     "name": "stderr",
     "output_type": "stream",
     "text": [
      "E:\\anaconda\\lib\\site-packages\\seaborn\\distributions.py:2619: FutureWarning: `distplot` is a deprecated function and will be removed in a future version. Please adapt your code to use either `displot` (a figure-level function with similar flexibility) or `histplot` (an axes-level function for histograms).\n",
      "  warnings.warn(msg, FutureWarning)\n"
     ]
    },
    {
     "data": {
      "image/png": "[encoded data removed]",
      "text/plain": [
       "<Figure size 432x288 with 1 Axes>"
      ]
     },
     "metadata": {
      "needs_background": "light"
     },
     "output_type": "display_data"
    }
   ],
   "source": [
    "#loan Amount\n",
    "sns.distplot(loan_data['LoanAmount'])\n",
    "plt.show()\n"
   ]
  },
  {
   "cell_type": "markdown",
   "id": "220c3eb5",
   "metadata": {},
   "source": [
    "it is almost normally distributed"
   ]
  },
  {
   "cell_type": "markdown",
   "id": "996b959d",
   "metadata": {},
   "source": [
    "## Bivariate analysis"
   ]
  },
  {
   "cell_type": "markdown",
   "id": "61d426cf",
   "metadata": {},
   "source": [
    "\n",
    "\n",
    "\n",
    "\n",
    "\n",
    "### Gender vs Loan status"
   ]
  },
  {
   "cell_type": "code",
   "execution_count": 13,
   "id": "ee3d9eb5",
   "metadata": {},
   "outputs": [
    {
     "data": {
      "text/plain": [
       "<seaborn.axisgrid.FacetGrid at 0x22fd3ba19a0>"
      ]
     },
     "execution_count": 13,
     "metadata": {},
     "output_type": "execute_result"
    },
    {
     "data": {
      "image/png": "[encoded data removed]",
      "text/plain": [
       "<Figure size 432.125x360 with 1 Axes>"
      ]
     },
     "metadata": {
      "needs_background": "light"
     },
     "output_type": "display_data"
    }
   ],
   "source": [
    "sns.catplot(x='Loan_Status',hue='Gender',data=loan_data,kind='count')"
   ]
  },
  {
   "cell_type": "code",
   "execution_count": 14,
   "id": "eb8dc294",
   "metadata": {},
   "outputs": [
    {
     "name": "stdout",
     "output_type": "stream",
     "text": [
      "Loan_Status    0    1\n",
      "Gender               \n",
      "Female        33   55\n",
      "Male         112  281\n"
     ]
    },
    {
     "data": {
      "text/plain": [
       "<AxesSubplot:xlabel='Gender'>"
      ]
     },
     "execution_count": 14,
     "metadata": {},
     "output_type": "execute_result"
    },
    {
     "data": {
      "image/png": "[encoded data removed]",
      "text/plain": [
       "<Figure size 432x288 with 1 Axes>"
      ]
     },
     "metadata": {
      "needs_background": "light"
     },
     "output_type": "display_data"
    }
   ],
   "source": [
    "#using crosstab\n",
    "Gender=pd.crosstab(loan_data['Gender'],loan_data['Loan_Status'])\n",
    "print(Gender.head())\n",
    "Gender.columns\n",
    "Gender.div(Gender.sum(axis=1),axis=0).plot(kind='bar',stacked=True)"
   ]
  },
  {
   "cell_type": "markdown",
   "id": "f7086aca",
   "metadata": {},
   "source": [
    "It can be inferred that the proportion of male and female applicants is more or less the same for both approved and unapproved loans."
   ]
  },
  {
   "cell_type": "markdown",
   "id": "cd8aecb5",
   "metadata": {},
   "source": [
    "## Married vs loan_status "
   ]
  },
  {
   "cell_type": "code",
   "execution_count": 15,
   "id": "5fd1cba1",
   "metadata": {},
   "outputs": [
    {
     "data": {
      "image/png": "[encoded data removed]",
      "text/plain": [
       "<Figure size 432x288 with 1 Axes>"
      ]
     },
     "metadata": {
      "needs_background": "light"
     },
     "output_type": "display_data"
    }
   ],
   "source": [
    "Married=pd.crosstab(loan_data['Married'],loan_data['Loan_Status'])\n",
    "Married.div(Married.sum(axis=1),axis=0).plot(kind='bar',title='Married',stacked=True)\n",
    "plt.show()"
   ]
  },
  {
   "cell_type": "markdown",
   "id": "dea853cc",
   "metadata": {},
   "source": [
    "## Education vs Loan_status"
   ]
  },
  {
   "cell_type": "code",
   "execution_count": 16,
   "id": "6df73461",
   "metadata": {},
   "outputs": [
    {
     "data": {
      "image/png": "[encoded data removed]",
      "text/plain": [
       "<Figure size 432x288 with 1 Axes>"
      ]
     },
     "metadata": {
      "needs_background": "light"
     },
     "output_type": "display_data"
    }
   ],
   "source": [
    "education=pd.crosstab(loan_data['Education'],loan_data['Loan_Status'])\n",
    "education.div(education.sum(axis=1),axis=0).plot(kind='bar',stacked=True,title='Loan status on education')\n",
    "plt.show()"
   ]
  },
  {
   "cell_type": "markdown",
   "id": "617c3d5f",
   "metadata": {},
   "source": [
    "We can see that graduate person has a higher chance of getting a loan"
   ]
  },
  {
   "cell_type": "markdown",
   "id": "323f89d4",
   "metadata": {},
   "source": [
    "## Property area vs loan status"
   ]
  },
  {
   "cell_type": "code",
   "execution_count": 17,
   "id": "00e6c4df",
   "metadata": {},
   "outputs": [
    {
     "data": {
      "image/png": "[encoded data removed]",
      "text/plain": [
       "<Figure size 432x288 with 1 Axes>"
      ]
     },
     "metadata": {
      "needs_background": "light"
     },
     "output_type": "display_data"
    }
   ],
   "source": [
    "prty=pd.crosstab(loan_data['Property_Area'],loan_data['Loan_Status'])\n",
    "prty.div(prty.sum(axis=1),axis=0).plot(kind='bar',stacked=True,title='Property area vs loan status')\n",
    "plt.show()"
   ]
  },
  {
   "cell_type": "markdown",
   "id": "4680a04a",
   "metadata": {},
   "source": [
    "laons are getting approved from semi urbar area is more "
   ]
  },
  {
   "cell_type": "markdown",
   "id": "0cf3cb3e",
   "metadata": {},
   "source": [
    "## Credit history vs loan status"
   ]
  },
  {
   "cell_type": "code",
   "execution_count": 18,
   "id": "e9090705",
   "metadata": {},
   "outputs": [
    {
     "data": {
      "image/png": "[encoded data removed]",
      "text/plain": [
       "<Figure size 432x288 with 1 Axes>"
      ]
     },
     "metadata": {
      "needs_background": "light"
     },
     "output_type": "display_data"
    }
   ],
   "source": [
    "credit=pd.crosstab(loan_data['Credit_History'],loan_data['Loan_Status'])\n",
    "credit.div(credit.sum(axis=1),axis=0).plot(kind='bar',stacked=True,title='Credit history vs loan status')\n",
    "plt.show()"
   ]
  },
  {
   "cell_type": "markdown",
   "id": "36206021",
   "metadata": {},
   "source": [
    "people with credit history has a high chance to get a loan\n"
   ]
  },
  {
   "cell_type": "markdown",
   "id": "247c8c4f",
   "metadata": {},
   "source": [
    "## Applicant income vs loan status"
   ]
  },
  {
   "cell_type": "code",
   "execution_count": 19,
   "id": "5d100fd8",
   "metadata": {},
   "outputs": [
    {
     "name": "stdout",
     "output_type": "stream",
     "text": [
      "81000\n",
      "150\n"
     ]
    },
    {
     "data": {
      "image/png": "[encoded data removed]",
      "text/plain": [
       "<Figure size 432x288 with 1 Axes>"
      ]
     },
     "metadata": {
      "needs_background": "light"
     },
     "output_type": "display_data"
    }
   ],
   "source": [
    "# diving the applicant income into bins line low avg high and very high \n",
    "#for that we need to know the max and min salary \n",
    "print(loan_data.ApplicantIncome.max())\n",
    "print(loan_data.ApplicantIncome.min())\n",
    "bins=[0,2500,4000,6000,81000]\n",
    "grp=['low','average','high','Very high']\n",
    "loan_data['Income_range']=pd.cut(loan_data['ApplicantIncome'],bins,labels=grp)\n",
    "income_range=pd.crosstab(loan_data['Income_range'],loan_data['Loan_Status'])\n",
    "income_range.div(income_range.sum(axis=1),axis=0).plot(kind='bar',stacked=True,title=\"applicant income \")\n",
    "plt.show()"
   ]
  },
  {
   "cell_type": "markdown",
   "id": "ebe291c7",
   "metadata": {},
   "source": [
    "loan approved almost same for every category of the applicant income "
   ]
  },
  {
   "cell_type": "markdown",
   "id": "74834e30",
   "metadata": {},
   "source": [
    "## total income (applicant income + coapplicant ) vs loan status "
   ]
  },
  {
   "cell_type": "code",
   "execution_count": 20,
   "id": "415f873d",
   "metadata": {},
   "outputs": [
    {
     "name": "stdout",
     "output_type": "stream",
     "text": [
      "1442.0\n",
      "81000.0\n"
     ]
    },
    {
     "data": {
      "image/png": "[encoded data removed]",
      "text/plain": [
       "<Figure size 432x288 with 1 Axes>"
      ]
     },
     "metadata": {
      "needs_background": "light"
     },
     "output_type": "display_data"
    }
   ],
   "source": [
    "loan_data['total_income']=loan_data['ApplicantIncome']+loan_data['CoapplicantIncome']\n",
    "print(loan_data.total_income.min())\n",
    "print(loan_data.total_income.max())\n",
    "bins=[0,2500,4000,6000,81000]\n",
    "grp=['low','average','high','Very high']\n",
    "loan_data['total_income_range']=pd.cut(loan_data['total_income'],bins=bins,labels=grp)\n",
    "total_income_rnage=pd.crosstab(loan_data['total_income_range'],loan_data['Loan_Status'])\n",
    "total_income_rnage.div(total_income_rnage.sum(axis=1),axis=0).plot(kind='bar',stacked=True,title=\"total income\")\n",
    "plt.show()"
   ]
  },
  {
   "cell_type": "markdown",
   "id": "7c45be14",
   "metadata": {},
   "source": [
    "we can see that portion of loan getting approved for person having low total income is very less"
   ]
  },
  {
   "cell_type": "markdown",
   "id": "3aed5b0b",
   "metadata": {},
   "source": [
    "## loan amount vs Loan status"
   ]
  },
  {
   "cell_type": "code",
   "execution_count": 21,
   "id": "afa4ccb6",
   "metadata": {},
   "outputs": [
    {
     "name": "stdout",
     "output_type": "stream",
     "text": [
      "17.0\n",
      "700.0\n"
     ]
    },
    {
     "data": {
      "image/png": "[encoded data removed]",
      "text/plain": [
       "<Figure size 432x288 with 1 Axes>"
      ]
     },
     "metadata": {
      "needs_background": "light"
     },
     "output_type": "display_data"
    }
   ],
   "source": [
    "print(loan_data.LoanAmount.min())\n",
    "print(loan_data.LoanAmount.max())\n",
    "bins=[0,50,150,700]\n",
    "grp=['low','Average','High']\n",
    "loan_data['loan_amount_range']=pd.cut(loan_data['LoanAmount'],bins=bins,labels=grp)\n",
    "Loan_amount=pd.crosstab(loan_data['loan_amount_range'],loan_data['Loan_Status'])\n",
    "Loan_amount.div(Loan_amount.sum(axis=1),axis=0).plot(kind='bar',stacked=True,title='Loan amount')\n",
    "plt.show()"
   ]
  },
  {
   "cell_type": "markdown",
   "id": "cb03b2f9",
   "metadata": {},
   "source": [
    "loans are approved more for low loan amount and less approved for high loan amaount"
   ]
  },
  {
   "cell_type": "markdown",
   "id": "73836e14",
   "metadata": {},
   "source": [
    "## Dependend vs Loan Status"
   ]
  },
  {
   "cell_type": "code",
   "execution_count": 22,
   "id": "d06b24df",
   "metadata": {},
   "outputs": [
    {
     "data": {
      "image/png": "[encoded data removed]",
      "text/plain": [
       "<Figure size 432x288 with 1 Axes>"
      ]
     },
     "metadata": {
      "needs_background": "light"
     },
     "output_type": "display_data"
    }
   ],
   "source": [
    "dep=pd.crosstab(loan_data['Dependents'],loan_data['Loan_Status'])\n",
    "dep.div(dep.sum(axis=1),axis=0).plot(kind='bar',stacked=True)\n",
    "plt.show()"
   ]
  },
  {
   "cell_type": "markdown",
   "id": "3c8ecf56",
   "metadata": {},
   "source": [
    "We can not say loan status of a person depending upon his dependents "
   ]
  },
  {
   "cell_type": "markdown",
   "id": "7f4cd4cb",
   "metadata": {},
   "source": [
    " "
   ]
  },
  {
   "cell_type": "code",
   "execution_count": 23,
   "id": "f0213f13",
   "metadata": {},
   "outputs": [],
   "source": [
    "# Dropping the bins that are created \n",
    "loan_data=loan_data.drop(['Income_range','total_income','total_income_range','loan_amount_range'],axis=1)\n"
   ]
  },
  {
   "cell_type": "code",
   "execution_count": 24,
   "id": "02ec3eb5",
   "metadata": {},
   "outputs": [
    {
     "data": {
      "text/plain": [
       "<AxesSubplot:>"
      ]
     },
     "execution_count": 24,
     "metadata": {},
     "output_type": "execute_result"
    },
    {
     "data": {
      "image/png": "[encoded data removed]",
      "text/plain": [
       "<Figure size 432x288 with 2 Axes>"
      ]
     },
     "metadata": {
      "needs_background": "light"
     },
     "output_type": "display_data"
    }
   ],
   "source": [
    "sns.heatmap(loan_data.corr(),annot=True)"
   ]
  },
  {
   "cell_type": "markdown",
   "id": "6cce50b6",
   "metadata": {},
   "source": [
    "## Working with null values"
   ]
  },
  {
   "cell_type": "code",
   "execution_count": 25,
   "id": "2ed33341",
   "metadata": {},
   "outputs": [
    {
     "data": {
      "text/plain": [
       "Loan_ID               0\n",
       "Gender               10\n",
       "Married               1\n",
       "Dependents            9\n",
       "Education             0\n",
       "Self_Employed        29\n",
       "ApplicantIncome       0\n",
       "CoapplicantIncome     0\n",
       "LoanAmount           16\n",
       "Loan_Amount_Term     13\n",
       "Credit_History       43\n",
       "Property_Area         0\n",
       "Loan_Status           0\n",
       "dtype: int64"
      ]
     },
     "execution_count": 25,
     "metadata": {},
     "output_type": "execute_result"
    }
   ],
   "source": [
    "# finding how many null values in every columns \n",
    "loan_data.isnull().sum()"
   ]
  },
  {
   "cell_type": "code",
   "execution_count": 26,
   "id": "0c4a864b",
   "metadata": {},
   "outputs": [],
   "source": [
    "# Replacing null vlues using mode , median or mean\n",
    "loan_data['Gender']=loan_data['Gender'].fillna(loan_data['Gender'].mode()[0])\n",
    "loan_data['Married']=loan_data['Married'].fillna(loan_data['Married'].mode()[0])\n",
    "loan_data['Dependents'].fillna(loan_data['Dependents'].mode()[0], inplace=True)\n",
    "loan_data['Self_Employed'].fillna(loan_data['Self_Employed'].mode()[0], inplace=True)\n",
    "loan_data['Credit_History'].fillna(loan_data['Credit_History'].mode()[0], inplace=True)"
   ]
  },
  {
   "cell_type": "code",
   "execution_count": 27,
   "id": "ba4a058a",
   "metadata": {},
   "outputs": [
    {
     "data": {
      "text/plain": [
       "360.0    404\n",
       "180.0     35\n",
       "480.0     13\n",
       "300.0     12\n",
       "84.0       4\n",
       "240.0      3\n",
       "120.0      3\n",
       "36.0       2\n",
       "12.0       1\n",
       "60.0       1\n",
       "Name: Loan_Amount_Term, dtype: int64"
      ]
     },
     "execution_count": 27,
     "metadata": {},
     "output_type": "execute_result"
    }
   ],
   "source": [
    "loan_data['Loan_Amount_Term'].value_counts()"
   ]
  },
  {
   "cell_type": "markdown",
   "id": "490208a4",
   "metadata": {},
   "source": [
    "We can see most value is 360 so we replce 360 with null value "
   ]
  },
  {
   "cell_type": "code",
   "execution_count": 28,
   "id": "65814204",
   "metadata": {},
   "outputs": [],
   "source": [
    "loan_data['Loan_Amount_Term'].fillna(loan_data['Loan_Amount_Term'].median(),inplace=True)"
   ]
  },
  {
   "cell_type": "code",
   "execution_count": 29,
   "id": "f3fe65be",
   "metadata": {},
   "outputs": [
    {
     "data": {
      "text/plain": [
       "120.0    17\n",
       "110.0    13\n",
       "100.0    13\n",
       "113.0    11\n",
       "160.0    11\n",
       "         ..\n",
       "436.0     1\n",
       "259.0     1\n",
       "296.0     1\n",
       "320.0     1\n",
       "178.0     1\n",
       "Name: LoanAmount, Length: 176, dtype: int64"
      ]
     },
     "execution_count": 29,
     "metadata": {},
     "output_type": "execute_result"
    }
   ],
   "source": [
    "loan_data['LoanAmount'].value_counts()"
   ]
  },
  {
   "cell_type": "code",
   "execution_count": 30,
   "id": "68393001",
   "metadata": {},
   "outputs": [],
   "source": [
    "loan_data['LoanAmount'].fillna(loan_data['LoanAmount'].median(),inplace=True)"
   ]
  },
  {
   "cell_type": "code",
   "execution_count": 31,
   "id": "25361c7d",
   "metadata": {},
   "outputs": [
    {
     "data": {
      "text/plain": [
       "Loan_ID              0\n",
       "Gender               0\n",
       "Married              0\n",
       "Dependents           0\n",
       "Education            0\n",
       "Self_Employed        0\n",
       "ApplicantIncome      0\n",
       "CoapplicantIncome    0\n",
       "LoanAmount           0\n",
       "Loan_Amount_Term     0\n",
       "Credit_History       0\n",
       "Property_Area        0\n",
       "Loan_Status          0\n",
       "dtype: int64"
      ]
     },
     "execution_count": 31,
     "metadata": {},
     "output_type": "execute_result"
    }
   ],
   "source": [
    "# Now checking for null values \n",
    "loan_data.isnull().sum()"
   ]
  },
  {
   "cell_type": "code",
   "execution_count": 32,
   "id": "40861bf9",
   "metadata": {},
   "outputs": [
    {
     "data": {
      "text/plain": [
       "Loan_ID              0\n",
       "Gender               3\n",
       "Married              2\n",
       "Dependents           6\n",
       "Education            0\n",
       "Self_Employed        3\n",
       "ApplicantIncome      0\n",
       "CoapplicantIncome    0\n",
       "LoanAmount           6\n",
       "Loan_Amount_Term     1\n",
       "Credit_History       7\n",
       "Property_Area        0\n",
       "dtype: int64"
      ]
     },
     "execution_count": 32,
     "metadata": {},
     "output_type": "execute_result"
    }
   ],
   "source": [
    "test_data.isnull().sum()"
   ]
  },
  {
   "cell_type": "markdown",
   "id": "b9d147a6",
   "metadata": {},
   "source": [
    "test data also has null values so replace the null values in test data as done in train data"
   ]
  },
  {
   "cell_type": "code",
   "execution_count": 33,
   "id": "b88b34d0",
   "metadata": {},
   "outputs": [],
   "source": [
    "test_data['Gender'].fillna(loan_data['Gender'].mode()[0], inplace=True)\n",
    "test_data['Married'].fillna(loan_data['Married'].mode()[0], inplace=True)\n",
    "test_data['Dependents'].fillna(loan_data['Dependents'].mode()[0], inplace=True)\n",
    "test_data['Self_Employed'].fillna(loan_data['Self_Employed'].mode()[0], inplace=True)\n",
    "test_data['Credit_History'].fillna(loan_data['Credit_History'].mode()[0], inplace=True)\n",
    "test_data['Loan_Amount_Term'].fillna(loan_data['Loan_Amount_Term'].mode()[0], inplace=True)\n",
    "test_data['LoanAmount'].fillna(loan_data['LoanAmount'].median(), inplace=True)"
   ]
  },
  {
   "cell_type": "code",
   "execution_count": 34,
   "id": "1f36688f",
   "metadata": {},
   "outputs": [
    {
     "data": {
      "text/plain": [
       "Loan_ID              0\n",
       "Gender               0\n",
       "Married              0\n",
       "Dependents           0\n",
       "Education            0\n",
       "Self_Employed        0\n",
       "ApplicantIncome      0\n",
       "CoapplicantIncome    0\n",
       "LoanAmount           0\n",
       "Loan_Amount_Term     0\n",
       "Credit_History       0\n",
       "Property_Area        0\n",
       "dtype: int64"
      ]
     },
     "execution_count": 34,
     "metadata": {},
     "output_type": "execute_result"
    }
   ],
   "source": [
    "test_data.isnull().sum()"
   ]
  },
  {
   "cell_type": "markdown",
   "id": "6b8f8f3e",
   "metadata": {},
   "source": [
    "## Removing outliers "
   ]
  },
  {
   "cell_type": "code",
   "execution_count": 35,
   "id": "5d34fd67",
   "metadata": {},
   "outputs": [
    {
     "data": {
      "image/png": "[encoded data removed]",
      "text/plain": [
       "<Figure size 432x288 with 1 Axes>"
      ]
     },
     "metadata": {
      "needs_background": "light"
     },
     "output_type": "display_data"
    }
   ],
   "source": [
    "#log transformation for removing the rigtht skewness \n",
    "loan_data['LoanAmount_log']=np.log(loan_data['LoanAmount'])\n",
    "loan_data['LoanAmount_log'].hist(bins=20)\n",
    "test_data['LoanAmount_log']=np.log(test_data['LoanAmount'])"
   ]
  },
  {
   "cell_type": "markdown",
   "id": "4589d4a0",
   "metadata": {},
   "source": [
    "## Model Building "
   ]
  },
  {
   "cell_type": "code",
   "execution_count": 36,
   "id": "1c55d63f",
   "metadata": {},
   "outputs": [],
   "source": [
    "loan_data=loan_data.drop('Loan_ID',axis=1)\n",
    "test_data=test_data.drop('Loan_ID',axis=1)"
   ]
  },
  {
   "cell_type": "code",
   "execution_count": 37,
   "id": "9084b194",
   "metadata": {},
   "outputs": [
    {
     "data": {
      "text/html": [
       "<div>\n",
       "<style scoped>\n",
       "    .dataframe tbody tr th:only-of-type {\n",
       "        vertical-align: middle;\n",
       "    }\n",
       "\n",
       "    .dataframe tbody tr th {\n",
       "        vertical-align: top;\n",
       "    }\n",
       "\n",
       "    .dataframe thead th {\n",
       "        text-align: right;\n",
       "    }\n",
       "</style>\n",
       "<table border=\"1\" class=\"dataframe\">\n",
       "  <thead>\n",
       "    <tr style=\"text-align: right;\">\n",
       "      <th></th>\n",
       "      <th>Gender</th>\n",
       "      <th>Married</th>\n",
       "      <th>Dependents</th>\n",
       "      <th>Education</th>\n",
       "      <th>Self_Employed</th>\n",
       "      <th>ApplicantIncome</th>\n",
       "      <th>CoapplicantIncome</th>\n",
       "      <th>LoanAmount</th>\n",
       "      <th>Loan_Amount_Term</th>\n",
       "      <th>Credit_History</th>\n",
       "      <th>Property_Area</th>\n",
       "      <th>Loan_Status</th>\n",
       "      <th>LoanAmount_log</th>\n",
       "    </tr>\n",
       "  </thead>\n",
       "  <tbody>\n",
       "    <tr>\n",
       "      <th>0</th>\n",
       "      <td>Female</td>\n",
       "      <td>No</td>\n",
       "      <td>0</td>\n",
       "      <td>Graduate</td>\n",
       "      <td>No</td>\n",
       "      <td>4547</td>\n",
       "      <td>0.0</td>\n",
       "      <td>115.0</td>\n",
       "      <td>360.0</td>\n",
       "      <td>1.0</td>\n",
       "      <td>Semiurban</td>\n",
       "      <td>1</td>\n",
       "      <td>4.744932</td>\n",
       "    </tr>\n",
       "    <tr>\n",
       "      <th>1</th>\n",
       "      <td>Male</td>\n",
       "      <td>Yes</td>\n",
       "      <td>3+</td>\n",
       "      <td>Not Graduate</td>\n",
       "      <td>Yes</td>\n",
       "      <td>5703</td>\n",
       "      <td>0.0</td>\n",
       "      <td>130.0</td>\n",
       "      <td>360.0</td>\n",
       "      <td>1.0</td>\n",
       "      <td>Rural</td>\n",
       "      <td>1</td>\n",
       "      <td>4.867534</td>\n",
       "    </tr>\n",
       "    <tr>\n",
       "      <th>2</th>\n",
       "      <td>Female</td>\n",
       "      <td>Yes</td>\n",
       "      <td>0</td>\n",
       "      <td>Graduate</td>\n",
       "      <td>No</td>\n",
       "      <td>4333</td>\n",
       "      <td>2451.0</td>\n",
       "      <td>110.0</td>\n",
       "      <td>360.0</td>\n",
       "      <td>1.0</td>\n",
       "      <td>Urban</td>\n",
       "      <td>0</td>\n",
       "      <td>4.700480</td>\n",
       "    </tr>\n",
       "    <tr>\n",
       "      <th>3</th>\n",
       "      <td>Male</td>\n",
       "      <td>Yes</td>\n",
       "      <td>0</td>\n",
       "      <td>Not Graduate</td>\n",
       "      <td>Yes</td>\n",
       "      <td>4695</td>\n",
       "      <td>0.0</td>\n",
       "      <td>96.0</td>\n",
       "      <td>360.0</td>\n",
       "      <td>1.0</td>\n",
       "      <td>Urban</td>\n",
       "      <td>1</td>\n",
       "      <td>4.564348</td>\n",
       "    </tr>\n",
       "    <tr>\n",
       "      <th>4</th>\n",
       "      <td>Male</td>\n",
       "      <td>Yes</td>\n",
       "      <td>2</td>\n",
       "      <td>Graduate</td>\n",
       "      <td>No</td>\n",
       "      <td>6700</td>\n",
       "      <td>1750.0</td>\n",
       "      <td>230.0</td>\n",
       "      <td>300.0</td>\n",
       "      <td>1.0</td>\n",
       "      <td>Semiurban</td>\n",
       "      <td>1</td>\n",
       "      <td>5.438079</td>\n",
       "    </tr>\n",
       "    <tr>\n",
       "      <th>...</th>\n",
       "      <td>...</td>\n",
       "      <td>...</td>\n",
       "      <td>...</td>\n",
       "      <td>...</td>\n",
       "      <td>...</td>\n",
       "      <td>...</td>\n",
       "      <td>...</td>\n",
       "      <td>...</td>\n",
       "      <td>...</td>\n",
       "      <td>...</td>\n",
       "      <td>...</td>\n",
       "      <td>...</td>\n",
       "      <td>...</td>\n",
       "    </tr>\n",
       "    <tr>\n",
       "      <th>486</th>\n",
       "      <td>Male</td>\n",
       "      <td>Yes</td>\n",
       "      <td>1</td>\n",
       "      <td>Graduate</td>\n",
       "      <td>Yes</td>\n",
       "      <td>9833</td>\n",
       "      <td>1833.0</td>\n",
       "      <td>182.0</td>\n",
       "      <td>180.0</td>\n",
       "      <td>1.0</td>\n",
       "      <td>Urban</td>\n",
       "      <td>1</td>\n",
       "      <td>5.204007</td>\n",
       "    </tr>\n",
       "    <tr>\n",
       "      <th>487</th>\n",
       "      <td>Female</td>\n",
       "      <td>No</td>\n",
       "      <td>1</td>\n",
       "      <td>Graduate</td>\n",
       "      <td>No</td>\n",
       "      <td>3812</td>\n",
       "      <td>0.0</td>\n",
       "      <td>112.0</td>\n",
       "      <td>360.0</td>\n",
       "      <td>1.0</td>\n",
       "      <td>Rural</td>\n",
       "      <td>1</td>\n",
       "      <td>4.718499</td>\n",
       "    </tr>\n",
       "    <tr>\n",
       "      <th>488</th>\n",
       "      <td>Male</td>\n",
       "      <td>Yes</td>\n",
       "      <td>1</td>\n",
       "      <td>Graduate</td>\n",
       "      <td>No</td>\n",
       "      <td>14583</td>\n",
       "      <td>0.0</td>\n",
       "      <td>185.0</td>\n",
       "      <td>180.0</td>\n",
       "      <td>1.0</td>\n",
       "      <td>Rural</td>\n",
       "      <td>1</td>\n",
       "      <td>5.220356</td>\n",
       "    </tr>\n",
       "    <tr>\n",
       "      <th>489</th>\n",
       "      <td>Male</td>\n",
       "      <td>No</td>\n",
       "      <td>0</td>\n",
       "      <td>Graduate</td>\n",
       "      <td>No</td>\n",
       "      <td>1836</td>\n",
       "      <td>33837.0</td>\n",
       "      <td>90.0</td>\n",
       "      <td>360.0</td>\n",
       "      <td>1.0</td>\n",
       "      <td>Urban</td>\n",
       "      <td>0</td>\n",
       "      <td>4.499810</td>\n",
       "    </tr>\n",
       "    <tr>\n",
       "      <th>490</th>\n",
       "      <td>Male</td>\n",
       "      <td>Yes</td>\n",
       "      <td>0</td>\n",
       "      <td>Graduate</td>\n",
       "      <td>No</td>\n",
       "      <td>2785</td>\n",
       "      <td>2016.0</td>\n",
       "      <td>110.0</td>\n",
       "      <td>360.0</td>\n",
       "      <td>1.0</td>\n",
       "      <td>Rural</td>\n",
       "      <td>1</td>\n",
       "      <td>4.700480</td>\n",
       "    </tr>\n",
       "  </tbody>\n",
       "</table>\n",
       "<p>491 rows × 13 columns</p>\n",
       "</div>"
      ],
      "text/plain": [
       "     Gender Married Dependents     Education Self_Employed  ApplicantIncome  \\\n",
       "0    Female      No          0      Graduate            No             4547   \n",
       "1      Male     Yes         3+  Not Graduate           Yes             5703   \n",
       "2    Female     Yes          0      Graduate            No             4333   \n",
       "3      Male     Yes          0  Not Graduate           Yes             4695   \n",
       "4      Male     Yes          2      Graduate            No             6700   \n",
       "..      ...     ...        ...           ...           ...              ...   \n",
       "486    Male     Yes          1      Graduate           Yes             9833   \n",
       "487  Female      No          1      Graduate            No             3812   \n",
       "488    Male     Yes          1      Graduate            No            14583   \n",
       "489    Male      No          0      Graduate            No             1836   \n",
       "490    Male     Yes          0      Graduate            No             2785   \n",
       "\n",
       "     CoapplicantIncome  LoanAmount  Loan_Amount_Term  Credit_History  \\\n",
       "0                  0.0       115.0             360.0             1.0   \n",
       "1                  0.0       130.0             360.0             1.0   \n",
       "2               2451.0       110.0             360.0             1.0   \n",
       "3                  0.0        96.0             360.0             1.0   \n",
       "4               1750.0       230.0             300.0             1.0   \n",
       "..                 ...         ...               ...             ...   \n",
       "486             1833.0       182.0             180.0             1.0   \n",
       "487                0.0       112.0             360.0             1.0   \n",
       "488                0.0       185.0             180.0             1.0   \n",
       "489            33837.0        90.0             360.0             1.0   \n",
       "490             2016.0       110.0             360.0             1.0   \n",
       "\n",
       "    Property_Area  Loan_Status  LoanAmount_log  \n",
       "0       Semiurban            1        4.744932  \n",
       "1           Rural            1        4.867534  \n",
       "2           Urban            0        4.700480  \n",
       "3           Urban            1        4.564348  \n",
       "4       Semiurban            1        5.438079  \n",
       "..            ...          ...             ...  \n",
       "486         Urban            1        5.204007  \n",
       "487         Rural            1        4.718499  \n",
       "488         Rural            1        5.220356  \n",
       "489         Urban            0        4.499810  \n",
       "490         Rural            1        4.700480  \n",
       "\n",
       "[491 rows x 13 columns]"
      ]
     },
     "execution_count": 37,
     "metadata": {},
     "output_type": "execute_result"
    }
   ],
   "source": [
    "loan_data"
   ]
  },
  {
   "cell_type": "code",
   "execution_count": 38,
   "id": "23ed15a3",
   "metadata": {},
   "outputs": [],
   "source": [
    "X = loan_data.drop('Loan_Status',axis=1)\n",
    "y = loan_data.Loan_Status"
   ]
  },
  {
   "cell_type": "code",
   "execution_count": 39,
   "id": "58ebe888",
   "metadata": {},
   "outputs": [],
   "source": [
    "train = loan_data.copy()\n",
    "test = test_data.copy()\n"
   ]
  },
  {
   "cell_type": "code",
   "execution_count": 40,
   "id": "db3051ea",
   "metadata": {},
   "outputs": [],
   "source": [
    "#Dropping Gender and dependents as loan status not depend on them \n",
    "# Dropping Loan amount as we have taken the log of loan amaount \n",
    "\n",
    "X.drop(['LoanAmount'],axis=1,inplace=True)\n",
    "test.drop(['LoanAmount'],axis=1,inplace=True)"
   ]
  },
  {
   "cell_type": "code",
   "execution_count": 41,
   "id": "a4acdb28",
   "metadata": {},
   "outputs": [],
   "source": [
    "X['Total Income']=X['ApplicantIncome']+X['CoapplicantIncome']\n",
    "test['Total Income']=test['ApplicantIncome']+test['CoapplicantIncome']"
   ]
  },
  {
   "cell_type": "code",
   "execution_count": 42,
   "id": "0ee39be3",
   "metadata": {},
   "outputs": [
    {
     "name": "stderr",
     "output_type": "stream",
     "text": [
      "E:\\anaconda\\lib\\site-packages\\seaborn\\distributions.py:2619: FutureWarning: `distplot` is a deprecated function and will be removed in a future version. Please adapt your code to use either `displot` (a figure-level function with similar flexibility) or `histplot` (an axes-level function for histograms).\n",
      "  warnings.warn(msg, FutureWarning)\n"
     ]
    },
    {
     "data": {
      "image/png": "[encoded data removed]",
      "text/plain": [
       "<Figure size 432x288 with 1 Axes>"
      ]
     },
     "metadata": {
      "needs_background": "light"
     },
     "output_type": "display_data"
    }
   ],
   "source": [
    "sns.distplot(X['Total Income'])\n",
    "plt.show()"
   ]
  },
  {
   "cell_type": "markdown",
   "id": "b2c05366",
   "metadata": {},
   "source": [
    "It is not normal taking the log to make it normal distribution "
   ]
  },
  {
   "cell_type": "code",
   "execution_count": 43,
   "id": "3a871e4b",
   "metadata": {},
   "outputs": [
    {
     "data": {
      "image/png": "[encoded data removed]",
      "text/plain": [
       "<Figure size 432x288 with 1 Axes>"
      ]
     },
     "metadata": {
      "needs_background": "light"
     },
     "output_type": "display_data"
    }
   ],
   "source": [
    "X['Log_total_income']=np.log(X['Total Income'])\n",
    "X['Log_total_income'].hist(bins=20)\n",
    "test['Log_total_income']=np.log(test['Total Income'])\n",
    "plt.show()"
   ]
  },
  {
   "cell_type": "code",
   "execution_count": 44,
   "id": "d63f4510",
   "metadata": {},
   "outputs": [],
   "source": [
    "X.drop('Total Income',axis=1,inplace=True)\n",
    "test.drop('Total Income',axis=1,inplace=True)"
   ]
  },
  {
   "cell_type": "code",
   "execution_count": 45,
   "id": "4d0b8a1c",
   "metadata": {},
   "outputs": [],
   "source": [
    "X.drop(['ApplicantIncome','CoapplicantIncome'],axis=1,inplace=True)\n",
    "test.drop(['ApplicantIncome','CoapplicantIncome'],axis=1,inplace=True)"
   ]
  },
  {
   "cell_type": "code",
   "execution_count": 46,
   "id": "605e9fa7",
   "metadata": {},
   "outputs": [],
   "source": [
    "X=pd.get_dummies(X,drop_first=True)\n",
    "test=pd.get_dummies(test,drop_first=True)"
   ]
  },
  {
   "cell_type": "code",
   "execution_count": 47,
   "id": "3af1d254",
   "metadata": {},
   "outputs": [
    {
     "data": {
      "text/html": [
       "<div>\n",
       "<style scoped>\n",
       "    .dataframe tbody tr th:only-of-type {\n",
       "        vertical-align: middle;\n",
       "    }\n",
       "\n",
       "    .dataframe tbody tr th {\n",
       "        vertical-align: top;\n",
       "    }\n",
       "\n",
       "    .dataframe thead th {\n",
       "        text-align: right;\n",
       "    }\n",
       "</style>\n",
       "<table border=\"1\" class=\"dataframe\">\n",
       "  <thead>\n",
       "    <tr style=\"text-align: right;\">\n",
       "      <th></th>\n",
       "      <th>Loan_Amount_Term</th>\n",
       "      <th>Credit_History</th>\n",
       "      <th>LoanAmount_log</th>\n",
       "      <th>Log_total_income</th>\n",
       "      <th>Gender_Male</th>\n",
       "      <th>Married_Yes</th>\n",
       "      <th>Dependents_1</th>\n",
       "      <th>Dependents_2</th>\n",
       "      <th>Dependents_3+</th>\n",
       "      <th>Education_Not Graduate</th>\n",
       "      <th>Self_Employed_Yes</th>\n",
       "      <th>Property_Area_Semiurban</th>\n",
       "      <th>Property_Area_Urban</th>\n",
       "    </tr>\n",
       "  </thead>\n",
       "  <tbody>\n",
       "    <tr>\n",
       "      <th>0</th>\n",
       "      <td>360.0</td>\n",
       "      <td>1.0</td>\n",
       "      <td>4.744932</td>\n",
       "      <td>8.422223</td>\n",
       "      <td>0</td>\n",
       "      <td>0</td>\n",
       "      <td>0</td>\n",
       "      <td>0</td>\n",
       "      <td>0</td>\n",
       "      <td>0</td>\n",
       "      <td>0</td>\n",
       "      <td>1</td>\n",
       "      <td>0</td>\n",
       "    </tr>\n",
       "    <tr>\n",
       "      <th>1</th>\n",
       "      <td>360.0</td>\n",
       "      <td>1.0</td>\n",
       "      <td>4.867534</td>\n",
       "      <td>8.648748</td>\n",
       "      <td>1</td>\n",
       "      <td>1</td>\n",
       "      <td>0</td>\n",
       "      <td>0</td>\n",
       "      <td>1</td>\n",
       "      <td>1</td>\n",
       "      <td>1</td>\n",
       "      <td>0</td>\n",
       "      <td>0</td>\n",
       "    </tr>\n",
       "    <tr>\n",
       "      <th>2</th>\n",
       "      <td>360.0</td>\n",
       "      <td>1.0</td>\n",
       "      <td>4.700480</td>\n",
       "      <td>8.822322</td>\n",
       "      <td>0</td>\n",
       "      <td>1</td>\n",
       "      <td>0</td>\n",
       "      <td>0</td>\n",
       "      <td>0</td>\n",
       "      <td>0</td>\n",
       "      <td>0</td>\n",
       "      <td>0</td>\n",
       "      <td>1</td>\n",
       "    </tr>\n",
       "    <tr>\n",
       "      <th>3</th>\n",
       "      <td>360.0</td>\n",
       "      <td>1.0</td>\n",
       "      <td>4.564348</td>\n",
       "      <td>8.454253</td>\n",
       "      <td>1</td>\n",
       "      <td>1</td>\n",
       "      <td>0</td>\n",
       "      <td>0</td>\n",
       "      <td>0</td>\n",
       "      <td>1</td>\n",
       "      <td>1</td>\n",
       "      <td>0</td>\n",
       "      <td>1</td>\n",
       "    </tr>\n",
       "    <tr>\n",
       "      <th>4</th>\n",
       "      <td>300.0</td>\n",
       "      <td>1.0</td>\n",
       "      <td>5.438079</td>\n",
       "      <td>9.041922</td>\n",
       "      <td>1</td>\n",
       "      <td>1</td>\n",
       "      <td>0</td>\n",
       "      <td>1</td>\n",
       "      <td>0</td>\n",
       "      <td>0</td>\n",
       "      <td>0</td>\n",
       "      <td>1</td>\n",
       "      <td>0</td>\n",
       "    </tr>\n",
       "  </tbody>\n",
       "</table>\n",
       "</div>"
      ],
      "text/plain": [
       "   Loan_Amount_Term  Credit_History  LoanAmount_log  Log_total_income  \\\n",
       "0             360.0             1.0        4.744932          8.422223   \n",
       "1             360.0             1.0        4.867534          8.648748   \n",
       "2             360.0             1.0        4.700480          8.822322   \n",
       "3             360.0             1.0        4.564348          8.454253   \n",
       "4             300.0             1.0        5.438079          9.041922   \n",
       "\n",
       "   Gender_Male  Married_Yes  Dependents_1  Dependents_2  Dependents_3+  \\\n",
       "0            0            0             0             0              0   \n",
       "1            1            1             0             0              1   \n",
       "2            0            1             0             0              0   \n",
       "3            1            1             0             0              0   \n",
       "4            1            1             0             1              0   \n",
       "\n",
       "   Education_Not Graduate  Self_Employed_Yes  Property_Area_Semiurban  \\\n",
       "0                       0                  0                        1   \n",
       "1                       1                  1                        0   \n",
       "2                       0                  0                        0   \n",
       "3                       1                  1                        0   \n",
       "4                       0                  0                        1   \n",
       "\n",
       "   Property_Area_Urban  \n",
       "0                    0  \n",
       "1                    0  \n",
       "2                    1  \n",
       "3                    1  \n",
       "4                    0  "
      ]
     },
     "execution_count": 47,
     "metadata": {},
     "output_type": "execute_result"
    }
   ],
   "source": [
    "X.head()"
   ]
  },
  {
   "cell_type": "code",
   "execution_count": 55,
   "id": "3be15b98",
   "metadata": {},
   "outputs": [
    {
     "data": {
      "text/plain": [
       "<AxesSubplot:>"
      ]
     },
     "execution_count": 55,
     "metadata": {},
     "output_type": "execute_result"
    },
    {
     "data": {
      "image/png": "[encoded data removed]",
      "text/plain": [
       "<Figure size 432x288 with 2 Axes>"
      ]
     },
     "metadata": {
      "needs_background": "light"
     },
     "output_type": "display_data"
    }
   ],
   "source": [
    "sns.heatmap(X.corr(),annot=True)"
   ]
  },
  {
   "cell_type": "markdown",
   "id": "0c8652fb",
   "metadata": {},
   "source": [
    "## Checking multicolinearity"
   ]
  },
  {
   "cell_type": "code",
   "execution_count": 62,
   "id": "612d1f0b",
   "metadata": {},
   "outputs": [
    {
     "data": {
      "text/html": [
       "<div>\n",
       "<style scoped>\n",
       "    .dataframe tbody tr th:only-of-type {\n",
       "        vertical-align: middle;\n",
       "    }\n",
       "\n",
       "    .dataframe tbody tr th {\n",
       "        vertical-align: top;\n",
       "    }\n",
       "\n",
       "    .dataframe thead th {\n",
       "        text-align: right;\n",
       "    }\n",
       "</style>\n",
       "<table border=\"1\" class=\"dataframe\">\n",
       "  <thead>\n",
       "    <tr style=\"text-align: right;\">\n",
       "      <th></th>\n",
       "      <th>variables</th>\n",
       "      <th>vfi_score</th>\n",
       "    </tr>\n",
       "  </thead>\n",
       "  <tbody>\n",
       "    <tr>\n",
       "      <th>0</th>\n",
       "      <td>Loan_Amount_Term</td>\n",
       "      <td>26.116674</td>\n",
       "    </tr>\n",
       "    <tr>\n",
       "      <th>1</th>\n",
       "      <td>Credit_History</td>\n",
       "      <td>7.249993</td>\n",
       "    </tr>\n",
       "    <tr>\n",
       "      <th>2</th>\n",
       "      <td>LoanAmount_log</td>\n",
       "      <td>183.946309</td>\n",
       "    </tr>\n",
       "    <tr>\n",
       "      <th>3</th>\n",
       "      <td>Log_total_income</td>\n",
       "      <td>204.284553</td>\n",
       "    </tr>\n",
       "    <tr>\n",
       "      <th>4</th>\n",
       "      <td>Gender_Male</td>\n",
       "      <td>6.774779</td>\n",
       "    </tr>\n",
       "    <tr>\n",
       "      <th>5</th>\n",
       "      <td>Married_Yes</td>\n",
       "      <td>3.916090</td>\n",
       "    </tr>\n",
       "    <tr>\n",
       "      <th>6</th>\n",
       "      <td>Dependents_1</td>\n",
       "      <td>1.394143</td>\n",
       "    </tr>\n",
       "    <tr>\n",
       "      <th>7</th>\n",
       "      <td>Dependents_2</td>\n",
       "      <td>1.436998</td>\n",
       "    </tr>\n",
       "    <tr>\n",
       "      <th>8</th>\n",
       "      <td>Dependents_3+</td>\n",
       "      <td>1.258897</td>\n",
       "    </tr>\n",
       "    <tr>\n",
       "      <th>9</th>\n",
       "      <td>Education_Not Graduate</td>\n",
       "      <td>1.272597</td>\n",
       "    </tr>\n",
       "    <tr>\n",
       "      <th>10</th>\n",
       "      <td>Self_Employed_Yes</td>\n",
       "      <td>1.180368</td>\n",
       "    </tr>\n",
       "    <tr>\n",
       "      <th>11</th>\n",
       "      <td>Property_Area_Semiurban</td>\n",
       "      <td>2.259642</td>\n",
       "    </tr>\n",
       "    <tr>\n",
       "      <th>12</th>\n",
       "      <td>Property_Area_Urban</td>\n",
       "      <td>2.074332</td>\n",
       "    </tr>\n",
       "  </tbody>\n",
       "</table>\n",
       "</div>"
      ],
      "text/plain": [
       "                  variables   vfi_score\n",
       "0          Loan_Amount_Term   26.116674\n",
       "1            Credit_History    7.249993\n",
       "2            LoanAmount_log  183.946309\n",
       "3          Log_total_income  204.284553\n",
       "4               Gender_Male    6.774779\n",
       "5               Married_Yes    3.916090\n",
       "6              Dependents_1    1.394143\n",
       "7              Dependents_2    1.436998\n",
       "8             Dependents_3+    1.258897\n",
       "9    Education_Not Graduate    1.272597\n",
       "10        Self_Employed_Yes    1.180368\n",
       "11  Property_Area_Semiurban    2.259642\n",
       "12      Property_Area_Urban    2.074332"
      ]
     },
     "execution_count": 62,
     "metadata": {},
     "output_type": "execute_result"
    }
   ],
   "source": [
    "from statsmodels.stats.outliers_influence import variance_inflation_factor\n",
    "def VFI(X):\n",
    "    vfi=pd.DataFrame()\n",
    "    vfi[\"variables\"]=X.columns\n",
    "    vfi[\"vfi_score\"]=[variance_inflation_factor(X.values,i) for i in range(X.shape[1])]\n",
    "    return vfi\n",
    "VFI(X)"
   ]
  },
  {
   "cell_type": "markdown",
   "id": "d2bc4f73",
   "metadata": {},
   "source": [
    "Log_total_income has higher vfi score and loanamount_log  So multicolinearity is more for these two variable we can remove these two variables "
   ]
  },
  {
   "cell_type": "code",
   "execution_count": 71,
   "id": "da22601a",
   "metadata": {},
   "outputs": [],
   "source": [
    "X.drop(['Log_total_income','LoanAmount_log'],axis=1,inplace=True)"
   ]
  },
  {
   "cell_type": "code",
   "execution_count": 72,
   "id": "4e62155c",
   "metadata": {},
   "outputs": [
    {
     "data": {
      "text/plain": [
       "Index(['Loan_Amount_Term', 'Credit_History', 'Gender_Male', 'Married_Yes',\n",
       "       'Dependents_1', 'Dependents_2', 'Dependents_3+',\n",
       "       'Education_Not Graduate', 'Self_Employed_Yes',\n",
       "       'Property_Area_Semiurban', 'Property_Area_Urban'],\n",
       "      dtype='object')"
      ]
     },
     "execution_count": 72,
     "metadata": {},
     "output_type": "execute_result"
    }
   ],
   "source": [
    "X.columns"
   ]
  },
  {
   "cell_type": "markdown",
   "id": "54cab98f",
   "metadata": {},
   "source": [
    "## Model "
   ]
  },
  {
   "cell_type": "code",
   "execution_count": 73,
   "id": "effbbef2",
   "metadata": {},
   "outputs": [],
   "source": [
    "from sklearn.model_selection import train_test_split\n",
    "x_train, x_valid, y_train, y_valid = train_test_split(X,y, test_size=0.3,random_state=42)"
   ]
  },
  {
   "cell_type": "code",
   "execution_count": 1,
   "id": "ef2dbaa7",
   "metadata": {},
   "outputs": [],
   "source": [
    "from sklearn.linear_model import LogisticRegression\n",
    "from sklearn.metrics import accuracy_score,f1_score, recall_score, precision_score"
   ]
  },
  {
   "cell_type": "code",
   "execution_count": 75,
   "id": "74cb3d47",
   "metadata": {},
   "outputs": [
    {
     "data": {
      "text/plain": [
       "LogisticRegression(max_iter=500)"
      ]
     },
     "execution_count": 75,
     "metadata": {},
     "output_type": "execute_result"
    }
   ],
   "source": [
    "model=LogisticRegression(max_iter=500)\n",
    "model.fit(x_train,y_train)"
   ]
  },
  {
   "cell_type": "code",
   "execution_count": 76,
   "id": "c02477cb",
   "metadata": {},
   "outputs": [
    {
     "name": "stdout",
     "output_type": "stream",
     "text": [
      "accuracy is 0.8378378378378378\n",
      "Model F1-Score =  0.8938053097345134\n"
     ]
    }
   ],
   "source": [
    "pred_val=model.predict(x_valid)\n",
    "acc=accuracy_score(pred_val,y_valid)\n",
    "print('accuracy is {}'.format(acc))\n",
    "print('Model F1-Score = ', f1_score(y_valid,pred_val))"
   ]
  },
  {
   "cell_type": "code",
   "execution_count": 77,
   "id": "b763ef5e",
   "metadata": {},
   "outputs": [
    {
     "data": {
      "text/plain": [
       "array([[ 23,  23],\n",
       "       [  1, 101]], dtype=int64)"
      ]
     },
     "execution_count": 77,
     "metadata": {},
     "output_type": "execute_result"
    }
   ],
   "source": [
    "from sklearn.metrics import confusion_matrix\n",
    "confusion_matrix(y_valid,pred_val)\n"
   ]
  }
 ],
 "metadata": {
  "kernelspec": {
   "display_name": "Python 3 (ipykernel)",
   "language": "python",
   "name": "python3"
  },
  "language_info": {
   "codemirror_mode": {
    "name": "ipython",
    "version": 3
   },
   "file_extension": ".py",
   "mimetype": "text/x-python",
   "name": "python",
   "nbconvert_exporter": "python",
   "pygments_lexer": "ipython3",
   "version": "3.9.12"
  }
 },
 "nbformat": 4,
 "nbformat_minor": 5
}
